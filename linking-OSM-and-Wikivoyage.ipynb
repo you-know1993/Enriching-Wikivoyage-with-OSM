{
 "cells": [
  {
   "cell_type": "code",
   "execution_count": null,
   "id": "a3e66f69-42ed-4a7e-ba11-23923f4e0dc5",
   "metadata": {},
   "outputs": [],
   "source": [
    "import pyrosm\n",
    "from fuzzywuzzy import fuzz\n",
    "import numpy as np\n",
    "import geopandas as gpd, pandas as pd\n",
    "import json\n",
    "from collections import Counter\n",
    "fp = 'OSM-filepath'\n",
    "osm = pyrosm.OSM(fp)\n",
    "osm"
   ]
  },
  {
   "cell_type": "code",
   "execution_count": null,
   "id": "6d6f92f8-3df7-47eb-91a1-62c6445189dc",
   "metadata": {},
   "outputs": [],
   "source": [
    "pois = osm.get_pois()\n",
    "buildings = osm.get_buildings()"
   ]
  },
  {
   "cell_type": "code",
   "execution_count": null,
   "id": "33d625db-c55f-499d-94e8-52ad6e9a1761",
   "metadata": {},
   "outputs": [],
   "source": [
    "wv = pd.read_csv('Wikivoyage-csv')\n",
    "wv_annotated=pd.read_csv('Annotated-wikivoyage')\n",
    "wv = wv[~wv[['longitude','latitude']].isna().any(axis=1)]\n",
    "wv = gpd.GeoDataFrame(wv, geometry=gpd.points_from_xy(wv['longitude'], wv['latitude']))\n",
    "wv = wv.set_crs('EPSG:4326')"
   ]
  },
  {
   "cell_type": "code",
   "execution_count": null,
   "id": "7692fdab-dcdc-403e-84ab-a7362764a96d",
   "metadata": {},
   "outputs": [],
   "source": [
    "named_buildings = buildings[buildings['name'].astype('bool')].copy()\n",
    "named_pois = pois[pois['name'].astype('bool')].copy()\n",
    "named_locs = named_buildings.append(named_pois)"
   ]
  },
  {
   "cell_type": "markdown",
   "id": "854e3a5d-3062-4f07-9836-74649f648b02",
   "metadata": {},
   "source": [
    "For the joined dataframe, title and alt are from wikivoyage, name and tags are from osm"
   ]
  },
  {
   "cell_type": "code",
   "execution_count": null,
   "id": "3094a760-7194-4852-b87f-e5eb49982fef",
   "metadata": {},
   "outputs": [],
   "source": [
    "joined = wv.sjoin_nearest(named_locs)[['article', 'addr:city', 'type', 'title', 'alt','name', 'tags', 'description']]"
   ]
  },
  {
   "cell_type": "code",
   "execution_count": null,
   "id": "552d2ae1-c970-4608-b3c5-4036e6eb0269",
   "metadata": {
    "tags": []
   },
   "outputs": [],
   "source": [
    "joined"
   ]
  },
  {
   "cell_type": "markdown",
   "id": "d360e314-1edd-47cf-8e31-65b0dd690ac7",
   "metadata": {},
   "source": [
    "Collect frequent words, should be loaded in from a list"
   ]
  },
  {
   "cell_type": "code",
   "execution_count": null,
   "id": "71013789-cf65-4996-96f6-a7bdc3916eb2",
   "metadata": {},
   "outputs": [],
   "source": [
    "all_tokens=Counter()\n",
    "all_listings_en=pd.read_csv('wikivoyage-listings-en')\n",
    "all_listings_de=pd.read_csv('wikivoyage-listings-de')\n",
    "all_listings_fr=pd.read_csv('wikivoyage-listings-fr')\n",
    "all_listings_it=pd.read_csv('wikivoyage-listings-it')\n",
    "list_of_names=all_listings_en['title'].dropna().tolist()\n",
    "list_of_names=list_of_names+all_listings_de['title'].dropna().tolist()\n",
    "list_of_names=list_of_names+all_listings_fr['title'].dropna().tolist()\n",
    "list_of_names=list_of_names+all_listings_it['title'].dropna().tolist()\n",
    "frequent_words=[]\n",
    "for item in list_of_names:\n",
    "    item=item.lower()\n",
    "    all_tokens.update(item.split())\n",
    "for word, count in all_tokens.items():\n",
    "    if count > 50:\n",
    "        frequent_words.append(word)\n",
    "        \n",
    "list_of_bbbike_names=joined['name'].tolist()\n",
    "all_bbbike_tokens=Counter()\n",
    "for item in list_of_bbbike_names:\n",
    "    item=item.lower()\n",
    "    all_bbbike_tokens.update(item.split())\n",
    "for word, count in all_bbbike_tokens.items():\n",
    "    if count > 3:\n",
    "        frequent_words.append(word)"
   ]
  },
  {
   "cell_type": "code",
   "execution_count": null,
   "id": "3611b52f-fccc-41f7-b3e1-f944dd4f08cb",
   "metadata": {},
   "outputs": [],
   "source": [
    "def remove_high_freq_words(text, high_freq):\n",
    "    new=[]\n",
    "    splitted=text.split()\n",
    "    for word in splitted:\n",
    "        if word.lower() not in high_freq:\n",
    "            new.append(word.lower())\n",
    "    if len(new)<1: #Check if the word does not only contain frequent words\n",
    "        return(text)\n",
    "    else:\n",
    "        return \" \".join(new)"
   ]
  },
  {
   "cell_type": "code",
   "execution_count": null,
   "id": "79a36dce-0a8c-47e1-89f1-f8f7cafce351",
   "metadata": {},
   "outputs": [],
   "source": [
    "def fuzzywuzzy_with_alts(df, fuzzy, frequent_words, simplified=False):\n",
    "    list_of_best_scores=[]\n",
    "    for index, row in df.iterrows():\n",
    "        scores=[]\n",
    "        if not pd.isna(row['alt']):\n",
    "            all_titles=row['alt'].replace(',', ':')\n",
    "            #all_titles=row['alt'].replace('\\\"', '')\n",
    "            all_titles=row['alt'].split(':')\n",
    "            all_titles.append(row['title'])\n",
    "        else:\n",
    "            all_titles=[row['title']]\n",
    "        if row['tags']!=None:\n",
    "            tag_dict=json.loads(row['tags'])\n",
    "            all_names=[v for k,v in tag_dict.items() if 'name' in k]\n",
    "            all_names.append(row['name'])\n",
    "        else:\n",
    "            all_names=[row['name']]\n",
    "        if simplified:\n",
    "            all_names=[remove_high_freq_words(name, frequent_words) for name in all_names]\n",
    "            all_titles=[remove_high_freq_words(title, frequent_words) for title in all_titles]\n",
    "        for title in all_titles:\n",
    "            for name in all_names:\n",
    "                if fuzzy=='set':\n",
    "                    scores.append(fuzz.token_set_ratio(name,title))\n",
    "                elif fuzzy=='sort':\n",
    "                    scores.append(fuzz.token_sort_ratio(name,title))\n",
    "                elif fuzzy=='partial':\n",
    "                    scores.append(fuzz.partial_ratio(name,title))\n",
    "                elif fuzzy=='ratio':\n",
    "                    scores.append(fuzz.ratio(name,title))\n",
    "        list_of_best_scores.append(max(scores))\n",
    "    return list_of_best_scores               "
   ]
  },
  {
   "cell_type": "code",
   "execution_count": null,
   "id": "f8970b39-6903-45e8-b8e5-32c920e6df47",
   "metadata": {},
   "outputs": [],
   "source": [
    "joined['set'] = fuzzywuzzy_with_alts(joined, 'set', frequent_words, False)\n",
    "joined['sort'] = fuzzywuzzy_with_alts(joined, 'sort', frequent_words, False)\n",
    "joined['partial'] = fuzzywuzzy_with_alts(joined, 'partial', frequent_words, False)\n",
    "joined['ratio'] =fuzzywuzzy_with_alts(joined, 'ratio', frequent_words, False)\n",
    "joined['simplified_set'] = fuzzywuzzy_with_alts(joined, 'set', frequent_words, True)\n",
    "joined['simplified_sort'] = fuzzywuzzy_with_alts(joined, 'sort', frequent_words, True)\n",
    "joined['simplified_partial'] = fuzzywuzzy_with_alts(joined, 'partial', frequent_words, True)\n",
    "joined['simplified_ratio'] =fuzzywuzzy_with_alts(joined, 'ratio', frequent_words, True)"
   ]
  },
  {
   "cell_type": "code",
   "execution_count": null,
   "id": "4bfa381e-786a-4c25-8f72-99bb31521293",
   "metadata": {},
   "outputs": [],
   "source": [
    "joined"
   ]
  },
  {
   "cell_type": "code",
   "execution_count": null,
   "id": "4eb72c42-b401-4fac-922e-f64000ca8902",
   "metadata": {},
   "outputs": [],
   "source": [
    "wv_annotated_small=wv_annotated[['title', 'name', 'gold']]\n",
    "wv_annotated_small\n"
   ]
  },
  {
   "cell_type": "code",
   "execution_count": null,
   "id": "5097547c-5d33-4bc2-b2f4-4942411140a2",
   "metadata": {},
   "outputs": [],
   "source": [
    "joined_gold=joined\n",
    "joined_gold['gold']=wv_annotated['gold']\n",
    "joined_gold"
   ]
  },
  {
   "cell_type": "code",
   "execution_count": null,
   "id": "4118cdad-a8ec-47c0-af32-8877a8da4b60",
   "metadata": {},
   "outputs": [],
   "source": [
    "from sklearn.metrics import precision_score\n",
    "from sklearn.metrics import recall_score\n",
    "from sklearn.metrics import f1_score"
   ]
  },
  {
   "cell_type": "code",
   "execution_count": null,
   "id": "b48fc84c-d8d4-49d8-96a0-3bc0bcd4e126",
   "metadata": {},
   "outputs": [],
   "source": [
    "set_precision=[]\n",
    "set_recall=[]\n",
    "set_fscore=[]\n",
    "sort_precision=[]\n",
    "sort_recall=[]\n",
    "sort_fscore=[]\n",
    "partial_precision=[]\n",
    "partial_recall=[]\n",
    "partial_fscore=[]\n",
    "ratio_precision=[]\n",
    "ratio_recall=[]\n",
    "ratio_fscore=[]\n",
    "\n",
    "simplified_set_precision=[]\n",
    "simplified_set_recall=[]\n",
    "simplified_set_fscore=[]\n",
    "simplified_sort_precision=[]\n",
    "simplified_sort_recall=[]\n",
    "simplified_sort_fscore=[]\n",
    "simplified_partial_precision=[]\n",
    "simplified_partial_recall=[]\n",
    "simplified_partial_fscore=[]\n",
    "simplified_ratio_precision=[]\n",
    "simplified_ratio_recall=[]\n",
    "simplified_ratio_fscore=[]\n",
    "\n",
    "for threshold in range(1,100):\n",
    "    set_precision.append(precision_score(wv_annotated['gold'], joined_gold['set'].apply(lambda x: True if x > threshold else False)))\n",
    "    set_recall.append(recall_score(wv_annotated['gold'], joined_gold['set'].apply(lambda x: True if x > threshold else False)))\n",
    "    set_fscore.append(f1_score(wv_annotated['gold'], joined_gold['set'].apply(lambda x: True if x > threshold else False)))\n",
    "    sort_precision.append(precision_score(wv_annotated['gold'], joined_gold['sort'].apply(lambda x: True if x > threshold else False)))\n",
    "    sort_recall.append(recall_score(wv_annotated['gold'], joined_gold['sort'].apply(lambda x: True if x > threshold else False)))\n",
    "    sort_fscore.append(f1_score(wv_annotated['gold'], joined_gold['sort'].apply(lambda x: True if x > threshold else False)))\n",
    "    partial_precision.append(precision_score(wv_annotated['gold'], joined_gold['partial'].apply(lambda x: True if x > threshold else False)))\n",
    "    partial_recall.append(recall_score(wv_annotated['gold'], joined_gold['partial'].apply(lambda x: True if x > threshold else False)))\n",
    "    partial_fscore.append(f1_score(wv_annotated['gold'], joined_gold['partial'].apply(lambda x: True if x > threshold else False)))\n",
    "    ratio_precision.append(precision_score(wv_annotated['gold'], joined_gold['ratio'].apply(lambda x: True if x > threshold else False)))\n",
    "    ratio_recall.append(recall_score(wv_annotated['gold'], joined_gold['ratio'].apply(lambda x: True if x > threshold else False)))\n",
    "    ratio_fscore.append(f1_score(wv_annotated['gold'], joined_gold['ratio'].apply(lambda x: True if x > threshold else False)))\n",
    "    \n",
    "    simplified_set_precision.append(precision_score(wv_annotated['gold'], joined_gold['simplified_set'].apply(lambda x: True if x > threshold else False)))\n",
    "    simplified_set_recall.append(recall_score(wv_annotated['gold'], joined_gold['simplified_set'].apply(lambda x: True if x > threshold else False)))\n",
    "    simplified_set_fscore.append(f1_score(wv_annotated['gold'], joined_gold['simplified_set'].apply(lambda x: True if x > threshold else False)))    \n",
    "    simplified_sort_precision.append(precision_score(wv_annotated['gold'], joined_gold['simplified_sort'].apply(lambda x: True if x > threshold else False)))\n",
    "    simplified_sort_recall.append(recall_score(wv_annotated['gold'], joined_gold['simplified_sort'].apply(lambda x: True if x > threshold else False)))\n",
    "    simplified_sort_fscore.append(f1_score(wv_annotated['gold'], joined_gold['simplified_sort'].apply(lambda x: True if x > threshold else False)))\n",
    "    simplified_partial_precision.append(precision_score(wv_annotated['gold'], joined_gold['simplified_partial'].apply(lambda x: True if x > threshold else False)))\n",
    "    simplified_partial_recall.append(recall_score(wv_annotated['gold'], joined_gold['simplified_partial'].apply(lambda x: True if x > threshold else False)))\n",
    "    simplified_partial_fscore.append(f1_score(wv_annotated['gold'], joined_gold['simplified_partial'].apply(lambda x: True if x > threshold else False)))\n",
    "    simplified_ratio_precision.append(precision_score(wv_annotated['gold'], joined_gold['simplified_ratio'].apply(lambda x: True if x > threshold else False)))\n",
    "    simplified_ratio_recall.append(recall_score(wv_annotated['gold'], joined_gold['simplified_ratio'].apply(lambda x: True if x > threshold else False)))\n",
    "    simplified_ratio_fscore.append(f1_score(wv_annotated['gold'], joined_gold['simplified_ratio'].apply(lambda x: True if x > threshold else False)))"
   ]
  },
  {
   "cell_type": "code",
   "execution_count": null,
   "id": "96b5bec6-1c14-4423-a6a0-658f1471a59d",
   "metadata": {},
   "outputs": [],
   "source": [
    "import matplotlib.pyplot as plt\n",
    "  \n",
    "X = range(1,100)\n",
    "plt.plot(X, set_precision, label='set')\n",
    "plt.plot(X, sort_precision, label='sort')\n",
    "plt.plot(X, partial_precision, label='partial')\n",
    "plt.plot(X, ratio_precision, label='ratio')\n",
    "\n",
    "plt.plot(X, simplified_set_precision, label='simplified_set')\n",
    "plt.plot(X, simplified_sort_precision, label='simplified_sort')\n",
    "plt.plot(X, simplified_partial_precision, label='simplified_partial')\n",
    "plt.plot(X, simplified_ratio_precision, label='simplified_ratio')\n",
    "\n",
    "plt.xlabel(\"Threshold\")\n",
    "plt.ylabel(\"Precision\")\n",
    "plt.title(\"Precision scores for thresholds\")\n",
    "  \n",
    "plt.legend()\n",
    "plt.show()"
   ]
  },
  {
   "cell_type": "code",
   "execution_count": null,
   "id": "6bf54cbd-7e48-4b2e-b612-d661ed8afc41",
   "metadata": {},
   "outputs": [],
   "source": [
    "plt.plot(X, set_recall, label='set')\n",
    "plt.plot(X, sort_recall, label='sort')\n",
    "plt.plot(X, partial_recall, label='partial')\n",
    "plt.plot(X, ratio_recall, label='ratio')\n",
    "\n",
    "plt.plot(X, simplified_set_recall, label='simplified_set')\n",
    "plt.plot(X, simplified_sort_recall, label='simplified_sort')\n",
    "plt.plot(X, simplified_partial_recall, label='simplified_partial')\n",
    "plt.plot(X, simplified_ratio_recall, label='simplified_ratio')\n",
    "plt.xlabel(\"Threshold\")\n",
    "plt.ylabel(\"Recall\")\n",
    "plt.title(\"Recall scores for thresholds\")\n",
    "  \n",
    "plt.legend()\n",
    "plt.show()"
   ]
  },
  {
   "cell_type": "code",
   "execution_count": null,
   "id": "5d34bc7a-700a-4108-bdba-9181fe458800",
   "metadata": {},
   "outputs": [],
   "source": [
    "plt.plot(X, set_fscore, label='set')\n",
    "plt.plot(X, sort_fscore, label='sort')\n",
    "plt.plot(X, partial_fscore, label='partial')\n",
    "plt.plot(X, ratio_fscore, label='ratio')\n",
    "\n",
    "plt.plot(X, simplified_set_fscore, label='simplified_set')\n",
    "plt.plot(X, simplified_sort_fscore, label='simplified_sort')\n",
    "plt.plot(X, simplified_partial_fscore, label='simplified_partial')\n",
    "plt.plot(X, simplified_ratio_fscore, label='simplified_ratio')\n",
    "\n",
    "plt.xlabel(\"Threshold\")\n",
    "plt.ylabel(\"F1-score\")\n",
    "plt.title(\"F1-scores for thresholds\")\n",
    "  \n",
    "plt.legend()\n",
    "plt.show()"
   ]
  },
  {
   "cell_type": "code",
   "execution_count": null,
   "id": "ee012d4e-19f2-4233-bca4-5fca032bfde0",
   "metadata": {},
   "outputs": [],
   "source": [
    "print(set_fscore.index(max(set_fscore))+1,max(set_fscore))\n",
    "print(sort_fscore.index(max(sort_fscore))+1,max(sort_fscore))\n",
    "print(partial_fscore.index(max(partial_fscore))+1,max(partial_fscore))\n",
    "print(ratio_fscore.index(max(ratio_fscore))+1,max(ratio_fscore))\n",
    "print(simplified_set_fscore.index(max(simplified_set_fscore))+1,max(simplified_set_fscore))\n",
    "print(simplified_sort_fscore.index(max(simplified_sort_fscore))+1,max(simplified_sort_fscore))\n",
    "print(simplified_partial_fscore.index(max(simplified_partial_fscore))+1,max(simplified_partial_fscore))\n",
    "print(simplified_ratio_fscore.index(max(simplified_ratio_fscore))+1,max(simplified_ratio_fscore))"
   ]
  },
  {
   "cell_type": "code",
   "execution_count": null,
   "id": "c1324798-a983-41dc-b5f5-8d33f91d9588",
   "metadata": {},
   "outputs": [],
   "source": [
    "print(partial_fscore)"
   ]
  },
  {
   "cell_type": "code",
   "execution_count": null,
   "id": "7ce710ef-0295-47f3-bcd0-7861cccb5b76",
   "metadata": {},
   "outputs": [],
   "source": [
    "print(simplified_ratio_fscore.index(max(simplified_ratio_fscore))+1>max(simplified_ratio_fscore))"
   ]
  },
  {
   "cell_type": "code",
   "execution_count": null,
   "id": "aab63555-07c6-4554-9395-2b8086c031b3",
   "metadata": {},
   "outputs": [],
   "source": []
  }
 ],
 "metadata": {
  "kernelspec": {
   "display_name": "Python 3 (ipykernel)",
   "language": "python",
   "name": "python3"
  },
  "language_info": {
   "codemirror_mode": {
    "name": "ipython",
    "version": 3
   },
   "file_extension": ".py",
   "mimetype": "text/x-python",
   "name": "python",
   "nbconvert_exporter": "python",
   "pygments_lexer": "ipython3",
   "version": "3.7.11"
  }
 },
 "nbformat": 4,
 "nbformat_minor": 5
}
